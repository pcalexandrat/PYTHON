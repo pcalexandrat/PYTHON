{
  "nbformat": 4,
  "nbformat_minor": 0,
  "metadata": {
    "colab": {
      "provenance": [],
      "authorship_tag": "ABX9TyOseZZs+OgOyaW99AkPoCWi",
      "include_colab_link": true
    },
    "kernelspec": {
      "name": "python3",
      "display_name": "Python 3"
    },
    "language_info": {
      "name": "python"
    }
  },
  "cells": [
    {
      "cell_type": "markdown",
      "metadata": {
        "id": "view-in-github",
        "colab_type": "text"
      },
      "source": [
        "<a href=\"https://colab.research.google.com/github/pcalexandrat/PYTHON/blob/main/chatbot.ipynb\" target=\"_parent\"><img src=\"https://colab.research.google.com/assets/colab-badge.svg\" alt=\"Open In Colab\"/></a>"
      ]
    },
    {
      "cell_type": "markdown",
      "source": [
        "#**Criando um Pseudocódigo**  ⏰ 📓"
      ],
      "metadata": {
        "id": "RbPl6Of_814W"
      }
    },
    {
      "cell_type": "markdown",
      "source": [
        " \"Como posso te ajudar hoje?\"\n",
        "EXIBIR \"1 - Quero melhorar meu foco\"\n",
        "EXIBIR \"2 - Quero organizar meus estudos\"\n",
        "\n",
        "SE opcao = 1 ENTÃO\n",
        "     \"Entendi! Você costuma se distrair facilmente? (sim/não)\"\n",
        "\n",
        "    SE resposta = \"sim\" ENTÃO\n",
        "        EXIBIR \"Tente estudar em um lugar silencioso e deixar o celular longe durante o estudo.\"\n",
        "    SENÃO\n",
        "        EXIBIR \"Ótimo! Continue criando metas curtas e faça pausas a cada 40 minutos.\"\n",
        "    \n",
        "\n",
        "SENÃO opcao = 2 ENTÃO\n",
        "    EXIBIR \"Organização é essencial! Você já tem um horário fixo de estudos? (sim/não)\"\n",
        "    LER resposta\n",
        "    SE resposta = \"sim\" ENTÃO\n",
        "        EXIBIR \"Perfeito! Mantenha o hábito e revise suas anotações todos os dias.\"\n",
        "    SENÃO\n",
        "        EXIBIR \"Crie uma rotina simples: escolha um horário fixo e comece com 30 minutos por dia.\"\n",
        "    FIMS\n",
        "\n",
        "SENÃO\n",
        "    EXIBIR \"Desculpe, não entendi. Escolha 1 ou 2.\"\n",
        "FIM\n"
      ],
      "metadata": {
        "id": "4Fy6c3AQ9FXx"
      }
    }
  ]
}